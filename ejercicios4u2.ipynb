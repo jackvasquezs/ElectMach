{
 "cells": [
  {
   "cell_type": "markdown",
   "metadata": {},
   "source": [
    "# Ejericicios\n",
    "\n",
    "### Ejericicio 1 : \n",
    "En la Figura se muestra un núcleo de dos columnas. El devanado del lado izquierdo del núcleo (N1) tiene 600 vueltas y el devanado de la derecha (N2) tiene 200 vueltas. Las bobinas se enrollan en las direcciones que se muestran en la figura. Si las dimensiones son las mostradas en la figura, ¿Qué flujo producirán las corrientes i1=0.6 A e i2=1.2 A? Suponga que µr = 1100 y constante. Considere una profundidad de 20 cm.\n",
    "<img src=\"img/maqelec/two_legsv2.png\" width=\"600px\">   \n",
    "\n",
    "### Ejericicio 2 : \n",
    "Considere que el núcleo que se muestra en la figura anterior es de acero, con una curva de magnetización que se muestra abajo. No suponga que el valor de µr es constante. ¿Cuánto flujo producen en el núcleo las corrientes especificadas? ¿Cuál es la permeabilidad relativa de este núcleo en estas condiciones? La permeabilidad relativa de 1 100 supuesta en el problema anterior, ¿es una buena suposición para estas condiciones? ¿Qué porcentaje de error presenta esta suposición?\n",
    "<img src=\"img/maqelec/bHp17.png\" width=\"600px\">   \n",
    "\n",
    "\n",
    "### Ejericicio 3 : \n",
    "En la figura se muestra un núcleo ferromagnético. La profundidad del núcleo es de 5 cm. Las demás dimensiones del núcleo se pueden ver en la figura. Encuentre el valor de la corriente producida por un flujo de 0.005 Wb. Con esta corriente, ¿cuál es la densidad de flujo en la parte superior del núcleo? ¿Cuál es la densidad de flujo en la parte derecha del núcleo? Suponga que la permeabilidad relativa del núcleo es de 800.\n",
    "<img src=\"img/maqelec/two_legsv0.png\" width=\"600px\">   \n",
    "\n",
    "**Hint:** Realice la equivalencia de circuito magnético a eléctrico y obtendrá un circuito con 5 resistores.\n",
    "\n"
   ]
  },
  {
   "cell_type": "code",
   "execution_count": null,
   "metadata": {},
   "outputs": [],
   "source": []
  }
 ],
 "metadata": {
  "kernelspec": {
   "display_name": "Python 3",
   "language": "python",
   "name": "python3"
  },
  "language_info": {
   "codemirror_mode": {
    "name": "ipython",
    "version": 3
   },
   "file_extension": ".py",
   "mimetype": "text/x-python",
   "name": "python",
   "nbconvert_exporter": "python",
   "pygments_lexer": "ipython3",
   "version": "3.7.6"
  }
 },
 "nbformat": 4,
 "nbformat_minor": 4
}
